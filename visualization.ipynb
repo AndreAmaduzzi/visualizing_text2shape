{
 "cells": [
  {
   "cell_type": "code",
   "execution_count": 1,
   "metadata": {},
   "outputs": [
    {
     "name": "stdout",
     "output_type": "stream",
     "text": [
      "Jupyter environment detected. Enabling Open3D WebVisualizer.\n",
      "[Open3D INFO] WebRTC GUI backend enabled.\n",
      "[Open3D INFO] WebRTCWindowSystem: HTTP handshake server disabled.\n"
     ]
    }
   ],
   "source": [
    "import os\n",
    "import sys\n",
    "sys.path.append(\"../Infusion\")\n",
    "from dataset.text2shape_dataset import Text2Shape\n",
    "from pathlib import Path\n",
    "from tqdm import tqdm\n",
    "import torch\n",
    "import numpy as np"
   ]
  },
  {
   "cell_type": "code",
   "execution_count": 2,
   "metadata": {},
   "outputs": [],
   "source": [
    "ds_path = Path(\"/media/data2/aamaduzzi/datasets/Text2Shape/\")"
   ]
  },
  {
   "cell_type": "code",
   "execution_count": 3,
   "metadata": {},
   "outputs": [
    {
     "name": "stdout",
     "output_type": "stream",
     "text": [
      "initializing dataset...\n",
      "annotations:  /media/data2/aamaduzzi/datasets/Text2Shape/annotations/from_shapenet_v1/test_all.csv\n"
     ]
    }
   ],
   "source": [
    "test_ds = Text2Shape(root=ds_path,\n",
    "                            split=\"test\",\n",
    "                            categories=\"all\",\n",
    "                            from_shapenet_v1=True,\n",
    "                            from_shapenet_v2=False,\n",
    "                            conditional_setup=True,\n",
    "                            language_model=\"t5-11b\",\n",
    "                            lowercase_text=True,\n",
    "                            max_length=60,\n",
    "                            padding=False,\n",
    "                            scale_mode=None)"
   ]
  },
  {
   "attachments": {},
   "cell_type": "markdown",
   "metadata": {},
   "source": [
    "# Text Embeddings Visualization"
   ]
  },
  {
   "cell_type": "code",
   "execution_count": 4,
   "metadata": {},
   "outputs": [
    {
     "name": "stderr",
     "output_type": "stream",
     "text": [
      "100%|██████████| 7453/7453 [00:00<00:00, 8954.84it/s]"
     ]
    },
    {
     "name": "stdout",
     "output_type": "stream",
     "text": [
      "mean embeds:  7453\n",
      "texts:  7453\n"
     ]
    },
    {
     "name": "stderr",
     "output_type": "stream",
     "text": [
      "\n"
     ]
    }
   ],
   "source": [
    "# get text embeddding\n",
    "# compute mean\n",
    "# save to tsv \n",
    "\n",
    "log_dir = './'\n",
    "mean_embeds = []\n",
    "texts = []\n",
    "for i in tqdm(range(len(test_ds))):\n",
    "    text = test_ds[i][\"text\"]\n",
    "    text_embed = test_ds[i][\"text_embed\"]\n",
    "    sum_embed = torch.sum(text_embed, dim=1)\n",
    "    # compute mean over non-zero elements\n",
    "    # get n of nonzero elements\n",
    "    index = (sum_embed == 0).nonzero()\n",
    "    if len(index)>0:\n",
    "        index = index[0]\n",
    "    else:\n",
    "        index = text_embed.shape[0]\n",
    "    \n",
    "    mean_embed = torch.mean(text_embed[:index], dim=0)\n",
    "    mean_embeds.append(mean_embed)\n",
    "    texts.append(text)\n",
    "\n",
    "print('mean embeds: ', len(mean_embeds))\n",
    "print('texts: ', len(texts))"
   ]
  },
  {
   "cell_type": "code",
   "execution_count": null,
   "metadata": {},
   "outputs": [],
   "source": [
    "# save embeddings in tsv files\n",
    "\n",
    "with open(os.path.join(log_dir, 'data.tsv'), \"w\") as f:\n",
    "  for mean_embed in tqdm(mean_embeds):\n",
    "    for i in range(mean_embed.shape[0]):\n",
    "        f.write(\"{}\\t\".format(mean_embed[i]))\n",
    "    f.write(\"\\n\")\n",
    "\n",
    "# save embeddings to tsv file\n",
    "count=0\n",
    "with open(os.path.join(log_dir, 'metadata.tsv'), \"w\") as f:\n",
    "  for text in tqdm(texts):\n",
    "    if \"\\n\" in text:\n",
    "      count +=1\n",
    "      text = text.replace('\\n', ' ')\n",
    "      if len(text)<3:\n",
    "        print('0 len')\n",
    "    f.write(\"{}\\n\".format(text))"
   ]
  },
  {
   "cell_type": "code",
   "execution_count": 15,
   "metadata": {},
   "outputs": [],
   "source": [
    "# visualization\n",
    "# the generated tsv files must be loaded to http://projector.tensorflow.org/\n",
    "\n",
    "# comments: T5EncoderModel produces near embeddings for text prompts with similar syntactic structure, instead of meaning"
   ]
  },
  {
   "attachments": {},
   "cell_type": "markdown",
   "metadata": {},
   "source": [
    "# Grammar errors Visualization"
   ]
  },
  {
   "cell_type": "code",
   "execution_count": null,
   "metadata": {},
   "outputs": [],
   "source": []
  },
  {
   "cell_type": "code",
   "execution_count": 14,
   "metadata": {},
   "outputs": [
    {
     "name": "stderr",
     "output_type": "stream",
     "text": [
      "100%|██████████| 7453/7453 [00:00<00:00, 1431522.08it/s]"
     ]
    },
    {
     "name": "stdout",
     "output_type": "stream",
     "text": [
      "63\n"
     ]
    },
    {
     "name": "stderr",
     "output_type": "stream",
     "text": [
      "\n"
     ]
    }
   ],
   "source": []
  },
  {
   "attachments": {},
   "cell_type": "markdown",
   "metadata": {},
   "source": [
    "# Sentence Length Visualization"
   ]
  },
  {
   "cell_type": "code",
   "execution_count": null,
   "metadata": {},
   "outputs": [],
   "source": []
  },
  {
   "attachments": {},
   "cell_type": "markdown",
   "metadata": {},
   "source": [
    "# Looking for wrong descriptions..."
   ]
  },
  {
   "cell_type": "code",
   "execution_count": null,
   "metadata": {},
   "outputs": [],
   "source": []
  }
 ],
 "metadata": {
  "kernelspec": {
   "display_name": ".infusion_venv",
   "language": "python",
   "name": "python3"
  },
  "language_info": {
   "codemirror_mode": {
    "name": "ipython",
    "version": 3
   },
   "file_extension": ".py",
   "mimetype": "text/x-python",
   "name": "python",
   "nbconvert_exporter": "python",
   "pygments_lexer": "ipython3",
   "version": "3.8.6"
  },
  "orig_nbformat": 4,
  "vscode": {
   "interpreter": {
    "hash": "2cfdaa39b13ce8564bacca87ee051fe4830e7139ab8d0cc4e281b0c0295921dc"
   }
  }
 },
 "nbformat": 4,
 "nbformat_minor": 2
}
